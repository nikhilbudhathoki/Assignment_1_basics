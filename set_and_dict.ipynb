{
 "cells": [
  {
   "cell_type": "markdown",
   "id": "c2ec2a21-fe0b-4f1f-b151-2903a298b404",
   "metadata": {},
   "source": [
    "## 1a: Create a list of tuples"
   ]
  },
  {
   "cell_type": "code",
   "execution_count": 10,
   "id": "d70c1d54-1b10-4807-8860-37936ba858a5",
   "metadata": {},
   "outputs": [
    {
     "name": "stdout",
     "output_type": "stream",
     "text": [
      "[('Arizona', 'Maricopa', 9), ('California', 'Alameda', 11), ('California', 'Sacramento', 35), ('Kentucky', 'Jefferson', 6), ('Louisiana', 'East Baton Rouge', 5), ('Arizon', 'Maricop', 3)]\n"
     ]
    }
   ],
   "source": [
    "#1: Making 2 lists of state names and county names\n",
    "state_names=['Arizona','California','California','Kentucky','Louisiana','Arizona']\n",
    "counties_names=['Maricopa','Alameda','Sacramento','Jefferson','East Baton Rouge','Maricop',]\n",
    "aqi_list=[9,11,35,6,5,3]\n",
    "#2:zipping all there lists\n",
    "epa_list=zip(state_names,counties_names,aqi_list)\n",
    "\n",
    "#3making it proper list\n",
    "epa_listt=list((epa_list))\n",
    "print(epa_listt)\n",
    "\n"
   ]
  },
  {
   "cell_type": "code",
   "execution_count": 13,
   "id": "169c6a0a-0f2e-49e8-b338-50cbd18bf049",
   "metadata": {},
   "outputs": [
    {
     "name": "stdout",
     "output_type": "stream",
     "text": [
      "{'Arizona': ('Maricopa', 9), 'California': ('Sacramento', 35), 'Kentucky': ('Jefferson', 6), 'Louisiana': ('East Baton Rouge', 5), 'Arizon': ('Maricop', 3)}\n"
     ]
    }
   ],
   "source": [
    "#1:making ane empty dict\n",
    "aqi_dict={}\n",
    "#2:using for loop with multivariable as s for state,c for county and a for aqivalues\n",
    "for s,c,a in epa_listt:\n",
    "    \n",
    "    aqi_dict[s]=(c,a)#using dict function to append value to dict in a instruct manner\n",
    "print(aqi_dict)"
   ]
  },
  {
   "cell_type": "markdown",
   "id": "0fa5d82f-18ea-4825-86de-21936250b9ab",
   "metadata": {},
   "source": [
    "## 1 Task 2: Use the dictionary to retrieve information"
   ]
  },
  {
   "cell_type": "code",
   "execution_count": 12,
   "id": "35d44e35-5ffb-469b-95dc-542a77ae6aa9",
   "metadata": {},
   "outputs": [
    {
     "name": "stdout",
     "output_type": "stream",
     "text": [
      "1\n"
     ]
    }
   ],
   "source": [
    "#finding reading\n",
    "arizona_reading=0\n",
    "#1:using for loop to access all keys and comparing it to a particular state to see how many times it is used\n",
    "for state in aqi_dict.keys():\n",
    "    if state=='Arizona':\n",
    "        arizona_reading+=1\n",
    "print(arizona_reading)\n",
    "    "
   ]
  },
  {
   "cell_type": "markdown",
   "id": "7eb655c4-4d63-40c4-9152-9d61a877083d",
   "metadata": {},
   "source": [
    "## Making a function to return its values when key is given"
   ]
  },
  {
   "cell_type": "code",
   "execution_count": 18,
   "id": "1529b16f-fd9e-4b21-ab7e-57a6d3bcf3ae",
   "metadata": {},
   "outputs": [
    {
     "data": {
      "text/plain": [
       "('Maricopa', 9)"
      ]
     },
     "execution_count": 18,
     "metadata": {},
     "output_type": "execute_result"
    }
   ],
   "source": [
    "def county_counter(state):\n",
    "    #returns particular county with aqi value\n",
    "    return aqi_dict[state]\n",
    "county_counter('Arizona')"
   ]
  },
  {
   "cell_type": "markdown",
   "id": "93748de7-0f31-4bff-b8cd-4d09768a29eb",
   "metadata": {},
   "source": [
    "## Making a function to access coounties only"
   ]
  },
  {
   "cell_type": "code",
   "execution_count": 29,
   "id": "40ef1d0c-fd3c-4005-a8ec-3df62fe83982",
   "metadata": {},
   "outputs": [
    {
     "data": {
      "text/plain": [
       "'Maricopa'"
      ]
     },
     "execution_count": 29,
     "metadata": {},
     "output_type": "execute_result"
    }
   ],
   "source": [
    "def county(state):\n",
    "    #returns only county\n",
    "    a= aqi_dict[state]\n",
    "    return a[0]\n",
    "county('Arizona')"
   ]
  },
  {
   "cell_type": "markdown",
   "id": "ba4f607a-1bd5-4af4-ab42-3c837fe93a4c",
   "metadata": {},
   "source": [
    "## Task 4: Use sets to determine how many counties share a name"
   ]
  },
  {
   "cell_type": "markdown",
   "id": "2e52b75b-72e8-4968-a66b-60bba56a2883",
   "metadata": {},
   "source": [
    "## List of all counties of all state"
   ]
  },
  {
   "cell_type": "code",
   "execution_count": 53,
   "id": "9ae8a31f-49fb-42b2-a9af-6a3cb1444813",
   "metadata": {},
   "outputs": [
    {
     "name": "stdout",
     "output_type": "stream",
     "text": [
      "['Maricopa', 'Sacramento', 'Jefferson', 'East Baton Rouge', 'Maricop']\n",
      "5\n"
     ]
    }
   ],
   "source": [
    "county_list=[]\n",
    "for count in aqi_dict:\n",
    "    #1:making a list of all values i.e county with aqi values tuples\n",
    "    a=(aqi_dict.values())\n",
    "    b=(list(a))\n",
    "\n",
    "for c in b:\n",
    "    #2:appending the only county part as county is the first part of the tuple\n",
    "    county_list.append(c[0])\n",
    "    \n",
    "    \n",
    "print(county_list)\n"
   ]
  },
  {
   "cell_type": "markdown",
   "id": "b589af11-5fe3-412b-a6eb-de7a6981beea",
   "metadata": {},
   "source": [
    "## 4b: Calculate how many counties share name and remove duplication"
   ]
  },
  {
   "cell_type": "code",
   "execution_count": 71,
   "id": "dab799bb-7c69-4216-ae70-3cc332130329",
   "metadata": {},
   "outputs": [
    {
     "name": "stdout",
     "output_type": "stream",
     "text": [
      "set()\n",
      "['arizona']\n"
     ]
    }
   ],
   "source": [
    "print(len(county_list))\n",
    "#1:making a county_name list \n",
    "    \n",
    "county_name=['arizona','branda','arizona','california']\n",
    "seen=set()#creating a empty set\n",
    "\n",
    "dup=[]\n",
    "for item in county_name:\n",
    "    if(item  in seen):#when item is not repeated it will ignore this and sent to seen set\n",
    "        dup.append(item)#when item is repeated it can  be compared to seen set as items are already in the seen set\n",
    "    else:\n",
    "        seen.add(item)\n",
    "print(dup)\n",
    "\n",
    "           \n",
    "        "
   ]
  },
  {
   "cell_type": "code",
   "execution_count": null,
   "id": "42dee9cf-d426-49d0-a4d6-e9225777f5a6",
   "metadata": {},
   "outputs": [],
   "source": []
  }
 ],
 "metadata": {
  "kernelspec": {
   "display_name": "Python 3 (ipykernel)",
   "language": "python",
   "name": "python3"
  },
  "language_info": {
   "codemirror_mode": {
    "name": "ipython",
    "version": 3
   },
   "file_extension": ".py",
   "mimetype": "text/x-python",
   "name": "python",
   "nbconvert_exporter": "python",
   "pygments_lexer": "ipython3",
   "version": "3.11.7"
  }
 },
 "nbformat": 4,
 "nbformat_minor": 5
}
