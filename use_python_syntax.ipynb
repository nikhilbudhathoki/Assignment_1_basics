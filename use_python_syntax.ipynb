{
 "cells": [
  {
   "cell_type": "markdown",
   "id": "ad28a38e-6e2b-439a-a950-721d1269408a",
   "metadata": {},
   "source": [
    "# ASSIGNMENT_1"
   ]
  },
  {
   "cell_type": "markdown",
   "id": "c054ee25-6ab4-4252-be46-94e2aff13637",
   "metadata": {},
   "source": [
    "## Activity:Use python syntax"
   ]
  },
  {
   "cell_type": "markdown",
   "id": "f06c23f0-0beb-488b-97ad-22bf8683468f",
   "metadata": {},
   "source": [
    "### Task1: Assign the theater unique identification to the variable theater_id and print it"
   ]
  },
  {
   "cell_type": "code",
   "execution_count": null,
   "id": "279b4aa5-4bd4-4e67-a1c8-65c19b97e984",
   "metadata": {},
   "outputs": [],
   "source": [
    "#1 print() function is used to print any string,character or integer like print('abcd')\n",
    "\n",
    "#2\n",
    "theater_id='b79cn10k'#assigning using assignment operator('=')\n",
    "#3\n",
    "print(theater_id)#printing it using print() function"
   ]
  },
  {
   "cell_type": "markdown",
   "id": "b469fa41-ed01-47c1-8dc7-ff5448b8cf67",
   "metadata": {},
   "source": [
    "### Task2:Create a ticket type variable for Adult(from various type :Senior,Youth and Adult and print it)\n"
   ]
  },
  {
   "cell_type": "code",
   "execution_count": 6,
   "id": "4c933545-0d90-4696-83ee-3329914984b8",
   "metadata": {},
   "outputs": [
    {
     "name": "stdout",
     "output_type": "stream",
     "text": [
      "Adult\n"
     ]
    }
   ],
   "source": [
    "\n",
    "#1 We can name variable with using alphanumeric words or characters,space is not allowed ,'_' is allowed, and variables names are case sensitibe\n",
    "\n",
    "#2\n",
    "ticket_type='Adult'#storing Adult string to a variable ticket_type\n",
    "#3\n",
    "print(ticket_type)#printing the variable\n"
   ]
  },
  {
   "cell_type": "markdown",
   "id": "e1702a75-14df-42dc-9252-37d3a0cd5b85",
   "metadata": {},
   "source": [
    "### Task 3: Save the number of adult ticket to a variable and check the data type"
   ]
  },
  {
   "cell_type": "code",
   "execution_count": 8,
   "id": "4de2ff7d-06d3-47fe-b3df-e11a83b2b2ed",
   "metadata": {},
   "outputs": [
    {
     "name": "stdout",
     "output_type": "stream",
     "text": [
      "<class 'float'>\n"
     ]
    }
   ],
   "source": [
    "#1\n",
    "adult_ticket_sold=59.0#assigning value of ticket sold to a variable which is a float\n",
    "#2\n",
    "print(type(adult_ticket_sold))#checking the data_type for the value pointed by variable"
   ]
  },
  {
   "cell_type": "markdown",
   "id": "92a0d2cc-9db2-474c-a2c2-eca1e1f456b4",
   "metadata": {},
   "source": [
    "### Task 4: Convert data type and print the result"
   ]
  },
  {
   "cell_type": "code",
   "execution_count": 10,
   "id": "291d7f7f-e37f-41d7-8c67-42e8859ad9a8",
   "metadata": {},
   "outputs": [
    {
     "name": "stdout",
     "output_type": "stream",
     "text": [
      "<class 'int'>\n"
     ]
    }
   ],
   "source": [
    "#1\n",
    "adult_ticket_sold=int(adult_ticket_sold)#converting float to int explicitly\n",
    "#2\n",
    "print(type(adult_ticket_sold))#checking the datatype of the converted variable which is int now\n"
   ]
  },
  {
   "cell_type": "code",
   "execution_count": null,
   "id": "591d5ed4-8f8d-45af-b399-b2f0bb0cae34",
   "metadata": {},
   "outputs": [],
   "source": []
  }
 ],
 "metadata": {
  "kernelspec": {
   "display_name": "Python 3 (ipykernel)",
   "language": "python",
   "name": "python3"
  },
  "language_info": {
   "codemirror_mode": {
    "name": "ipython",
    "version": 3
   },
   "file_extension": ".py",
   "mimetype": "text/x-python",
   "name": "python",
   "nbconvert_exporter": "python",
   "pygments_lexer": "ipython3",
   "version": "3.11.7"
  }
 },
 "nbformat": 4,
 "nbformat_minor": 5
}
