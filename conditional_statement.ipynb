{
 "cells": [
  {
   "cell_type": "markdown",
   "id": "bd2d40d4-60c4-4171-9b43-cebfff55d0b2",
   "metadata": {},
   "source": [
    "# Task 1: Define a comparator function"
   ]
  },
  {
   "cell_type": "code",
   "execution_count": 3,
   "id": "36249e36-383d-4a85-9c0f-c5b9d5092ce6",
   "metadata": {},
   "outputs": [
    {
     "data": {
      "text/plain": [
       "'send email'"
      ]
     },
     "execution_count": 3,
     "metadata": {},
     "output_type": "execute_result"
    }
   ],
   "source": [
    "#1defifing a function\n",
    "def send_email(num_visits,visits_email):#num_visits is number of visit of customer and visits_email is min num of visit a customer should have to get mail\n",
    "    if(num_visits>=visits_email):\n",
    "        return \"send email\"\n",
    "    else:\n",
    "        return \"not enough visits\"\n",
    "send_email(3,3)\n"
   ]
  },
  {
   "cell_type": "markdown",
   "id": "634ed9af-27db-4f66-9517-8431de965974",
   "metadata": {},
   "source": [
    "## Adding new branch where a specific visit will get cupons"
   ]
  },
  {
   "cell_type": "code",
   "execution_count": 4,
   "id": "92b3a4eb-f8a2-4e8c-bcfe-ed0ccd047484",
   "metadata": {},
   "outputs": [
    {
     "data": {
      "text/plain": [
       "'cupons with mail'"
      ]
     },
     "execution_count": 4,
     "metadata": {},
     "output_type": "execute_result"
    }
   ],
   "source": [
    "#1 defifing a function\n",
    "def send_email(num_visits,visits_email,cupons):#num_visits is number of visit of customer and visits_email is min num of visit a customer should have to get mail\n",
    "    if(num_visits>=visits_email and num_visits<cupons):\n",
    "        return \"send email\"\n",
    "    elif(num_visits<visits_email):\n",
    "        return \"not enough visits\"\n",
    "    if(num_visits>=cupons and num_visits>=visits_email):\n",
    "        return \"cupons with mail\"\n",
    "send_email(8,8,8)\n",
    "send_email(8,5,8)"
   ]
  },
  {
   "cell_type": "markdown",
   "id": "3f4b5928-b72e-43a4-95c8-1b4324c737df",
   "metadata": {},
   "source": [
    "# TESTING"
   ]
  },
  {
   "cell_type": "markdown",
   "id": "171ba911-a9ee-46eb-ae0b-90452f3a308c",
   "metadata": {},
   "source": [
    "print(send_email(num_visits=3, visits_email=5, cupons=8)) # Should print 'Not enough visits.'\n",
    "print(send_email(num_visits=5, visits_email=5,cupons=8)) # Should print 'Send email only.'\n",
    "print(send_email(num_visits=6, visits_email=5,cupons=8)) # Should print 'Send email only.'\n",
    "print(send_email(num_visits=8, visits_email=5,cupons=8)) # Should print 'Send email with coupon.'\n",
    "print(send_email(num_visits=10, visits_email=5,cupons=8))# Should print 'Send email with coupon.'\n"
   ]
  },
  {
   "cell_type": "code",
   "execution_count": null,
   "id": "db4fce19-dcb7-4113-ac43-c0623133f20d",
   "metadata": {},
   "outputs": [],
   "source": []
  },
  {
   "cell_type": "code",
   "execution_count": null,
   "id": "b9a0a230-9dc5-4e6e-9691-6e91796a8e91",
   "metadata": {},
   "outputs": [],
   "source": []
  },
  {
   "cell_type": "code",
   "execution_count": null,
   "id": "cf6d3207-a406-407e-9113-9971702a9174",
   "metadata": {},
   "outputs": [],
   "source": []
  }
 ],
 "metadata": {
  "kernelspec": {
   "display_name": "Python 3 (ipykernel)",
   "language": "python",
   "name": "python3"
  },
  "language_info": {
   "codemirror_mode": {
    "name": "ipython",
    "version": 3
   },
   "file_extension": ".py",
   "mimetype": "text/x-python",
   "name": "python",
   "nbconvert_exporter": "python",
   "pygments_lexer": "ipython3",
   "version": "3.11.7"
  }
 },
 "nbformat": 4,
 "nbformat_minor": 5
}
