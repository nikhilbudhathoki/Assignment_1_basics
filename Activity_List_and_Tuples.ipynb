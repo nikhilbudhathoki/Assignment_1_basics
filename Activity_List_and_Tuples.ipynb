{
 "cells": [
  {
   "cell_type": "code",
   "execution_count": 2,
   "id": "b417acdc-8a30-4321-b73b-9878a8008ab0",
   "metadata": {},
   "outputs": [
    {
     "name": "stdout",
     "output_type": "stream",
     "text": [
      "[('Arizona', 'Maricopa'), ('California', 'Alameda'), ('California', 'Sacramento'), ('Kentucky', 'Jefferson'), ('Louisiana', 'East Baton Rouge')]\n"
     ]
    }
   ],
   "source": [
    "#1: Making 2 lists of state names and county names\n",
    "state_names=['Arizona','California','California','Kentucky','Louisiana']\n",
    "country_names=['Maricopa','Alameda','Sacramento','Jefferson','East Baton Rouge']\n",
    "#2:making a variable position to access each element\n",
    "position=0\n",
    "#3 :making a empty list to get appended\n",
    "state_country_list=[]\n",
    "#4 : using a for loop to get iterated\n",
    "for id in state_names:\n",
    "#5: making a tuples named a to access corresponding elements in list\n",
    "    a=(state_names[position],country_names[position])\n",
    "\n",
    "#6:increament of the position in a loop\n",
    "    position=position+1\n",
    "    state_country_list.append(a)\n",
    "print(state_country_list)\n",
    "\n",
    "    \n",
    "    "
   ]
  },
  {
   "cell_type": "markdown",
   "id": "01b0ccc0-8856-43a2-8804-f3dee3222d8f",
   "metadata": {},
   "source": [
    "### 1c: Use the zip() function to combine the lists into a single list of tuple"
   ]
  },
  {
   "cell_type": "markdown",
   "id": "c17b183b-76d1-4184-be0e-c6cb892cfa30",
   "metadata": {},
   "source": [
    "### Using zip() to make the state_country_list:"
   ]
  },
  {
   "cell_type": "code",
   "execution_count": 3,
   "id": "6c17a15a-0471-4411-80a2-cd7a0e519f20",
   "metadata": {},
   "outputs": [
    {
     "name": "stdout",
     "output_type": "stream",
     "text": [
      "[('Arizona', 'Maricopa'), ('California', 'Alameda'), ('California', 'Sacramento'), ('Kentucky', 'Jefferson'), ('Louisiana', 'East Baton Rouge')]\n"
     ]
    }
   ],
   "source": [
    "#1: making 2 lists\n",
    "state_names=['Arizona','California','California','Kentucky','Louisiana']\n",
    "country_names=['Maricopa','Alameda','Sacramento','Jefferson','East Baton Rouge']\n",
    "#2:using zip() function to do the same \n",
    "state_country_list1=zip(state_names,country_names)\n",
    "#making a list out of it\n",
    "print(list(state_country_list1))\n"
   ]
  },
  {
   "cell_type": "markdown",
   "id": "22cd2fb7-c7ce-4769-ac3f-6a59bbafefee",
   "metadata": {},
   "source": [
    "## Task 2: Use list comprehension to convert to list of lists"
   ]
  },
  {
   "cell_type": "code",
   "execution_count": 4,
   "id": "b70b07d3-57e9-4034-b0d1-1d32674b0f2a",
   "metadata": {},
   "outputs": [
    {
     "name": "stdout",
     "output_type": "stream",
     "text": [
      "[['Arizona', 'Maricopa'], ['California', 'Alameda'], ['California', 'Sacramento'], ['Kentucky', 'Jefferson'], ['Louisiana', 'East Baton Rouge']]\n"
     ]
    }
   ],
   "source": [
    "#1:making a empty list\n",
    "list2=[]\n",
    "#2:using a for loop to access each element\n",
    "for sc in state_country_list:\n",
    "    #3:appending each tuples to list2 and making it list using list() function\n",
    "    list2.append(list(sc))\n",
    "    \n",
    "print(list2)\n",
    "    \n",
    "    "
   ]
  },
  {
   "cell_type": "markdown",
   "id": "9dc0b427-3fdb-45d5-86e9-9276c7792568",
   "metadata": {},
   "source": [
    "## Task 3: Unpacking an iterable\n"
   ]
  },
  {
   "cell_type": "code",
   "execution_count": 4,
   "id": "a99b1b2b-2a95-4cc5-8d2c-5520b73b071b",
   "metadata": {},
   "outputs": [
    {
     "name": "stdout",
     "output_type": "stream",
     "text": [
      "[('Arizona', 'Maricopa'), ('California', 'Alameda'), ('California', 'Sacramento'), ('Kentucky', 'Jefferson'), ('Louisiana', 'East Baton Rouge')]\n",
      "['Alameda', 'Sacramento']\n"
     ]
    }
   ],
   "source": [
    "#1:printing old list of tuples\n",
    "print(state_country_list)#in tuples\n",
    "new_list=[]\n",
    "#2:making a for loop with 2 variable because there are 2 variables in tuples\n",
    "for x,y in state_country_list:\n",
    "    #3:if the first word in tuple is california append 2nd word to the list to the list\n",
    "    if(x=='California'):\n",
    "        new_list.append(y)\n",
    "\n",
    "print(new_list)\n"
   ]
  },
  {
   "cell_type": "markdown",
   "id": "91c84df4-3e5e-4e5d-aa06-bab9708f01c7",
   "metadata": {},
   "source": [
    "## 0.5.2 3b: Unpacking in a list comprehension"
   ]
  },
  {
   "cell_type": "code",
   "execution_count": 10,
   "id": "4a907bf4-5400-453b-8946-7b38eb1914db",
   "metadata": {},
   "outputs": [
    {
     "name": "stdout",
     "output_type": "stream",
     "text": [
      "[('Arizona', 'Maricopa'), ('California', 'Alameda'), ('California', 'Sacramento'), ('Kentucky', 'Jefferson'), ('Louisiana', 'East Baton Rouge')]\n",
      "['Alameda', 'Sacramento']\n"
     ]
    }
   ],
   "source": [
    "print(state_country_list)#in tuples\n",
    "#1:making a empty list\n",
    "ca_counties=[]\n",
    "#2 using a single variable in the loop and using membership operator\n",
    "for st in state_country_list:\n",
    "    if 'California' in st:\n",
    "        #printing 2nd element if California is in the tuple\n",
    "        ca_counties.append(st[1])\n",
    "print(ca_counties)\n"
   ]
  },
  {
   "cell_type": "code",
   "execution_count": null,
   "id": "07ec1c6b-50bc-45b4-b0a8-57a7b65834ce",
   "metadata": {},
   "outputs": [],
   "source": []
  }
 ],
 "metadata": {
  "kernelspec": {
   "display_name": "Python 3 (ipykernel)",
   "language": "python",
   "name": "python3"
  },
  "language_info": {
   "codemirror_mode": {
    "name": "ipython",
    "version": 3
   },
   "file_extension": ".py",
   "mimetype": "text/x-python",
   "name": "python",
   "nbconvert_exporter": "python",
   "pygments_lexer": "ipython3",
   "version": "3.11.7"
  }
 },
 "nbformat": 4,
 "nbformat_minor": 5
}
