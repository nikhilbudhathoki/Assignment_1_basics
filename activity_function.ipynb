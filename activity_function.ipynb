{
 "cells": [
  {
   "cell_type": "markdown",
   "id": "e3f2aced-c689-4ca8-90e6-9aae93c6b204",
   "metadata": {},
   "source": [
    "## 0.3 Task 1: Analyze a function"
   ]
  },
  {
   "cell_type": "code",
   "execution_count": 1,
   "id": "ee32eae0-1b25-4774-9efc-0f80c983b2d8",
   "metadata": {},
   "outputs": [],
   "source": [
    "#1: making a function using def and naming it total_sales after the name () is used and after : is used to get intendation\n",
    "def total_sales():\n",
    "    #2:Returning any value or variable when function is called\n",
    "    return"
   ]
  },
  {
   "cell_type": "markdown",
   "id": "48bda564-47db-43b3-a95f-4fb5b924aecd",
   "metadata": {},
   "source": [
    "## Task 2: Add a parameter and calculations to the function\n"
   ]
  },
  {
   "cell_type": "code",
   "execution_count": 4,
   "id": "e4ff91a2-1306-4f72-90c5-0b394726029f",
   "metadata": {},
   "outputs": [
    {
     "data": {
      "text/plain": [
       "439.45"
      ]
     },
     "execution_count": 4,
     "metadata": {},
     "output_type": "execute_result"
    }
   ],
   "source": [
    "def total_sales(n):\n",
    "#2:making the value to return paramater*7.99 let it is price per ticlet\n",
    "    return n*7.99\n",
    "# 2b: Call the function\n",
    "total_sales(55)\n",
    "#so 55 tickets were sold"
   ]
  },
  {
   "cell_type": "markdown",
   "id": "5ca24134-3f96-48b6-9ff6-9deb5e85ba75",
   "metadata": {},
   "source": [
    "### Task 3: Create a function that accepts two values"
   ]
  },
  {
   "cell_type": "code",
   "execution_count": 5,
   "id": "b6487121-2e25-4648-835e-1d0cbeeb22f7",
   "metadata": {},
   "outputs": [
    {
     "data": {
      "text/plain": [
       "16005.99"
      ]
     },
     "execution_count": 5,
     "metadata": {},
     "output_type": "execute_result"
    }
   ],
   "source": [
    "#1:Making function to accept 2 parameter price and number of tickets\n",
    "def total_sales(p,n):#p is price and n is number\n",
    "    return p*n\n",
    "total_sales(15.99,1001)"
   ]
  },
  {
   "cell_type": "markdown",
   "id": "a41ff4be-b950-4eb0-a7aa-fd4e113c89b3",
   "metadata": {},
   "source": [
    "## Task 4: Test the function with different values"
   ]
  },
  {
   "cell_type": "code",
   "execution_count": 10,
   "id": "db597214-a64e-45ec-a860-27becfc222c5",
   "metadata": {},
   "outputs": [
    {
     "name": "stdout",
     "output_type": "stream",
     "text": [
      "1500\n"
     ]
    },
    {
     "data": {
      "text/plain": [
       "4400"
      ]
     },
     "execution_count": 10,
     "metadata": {},
     "output_type": "execute_result"
    }
   ],
   "source": [
    "print(total_sales(15,100))\n",
    "total_sales(44,100)"
   ]
  },
  {
   "cell_type": "code",
   "execution_count": 11,
   "id": "221fcfdf-eff3-4d5e-955c-42ec00bb0d27",
   "metadata": {},
   "outputs": [
    {
     "data": {
      "text/plain": [
       "484"
      ]
     },
     "execution_count": 11,
     "metadata": {},
     "output_type": "execute_result"
    }
   ],
   "source": [
    "total_sales(11,44)"
   ]
  },
  {
   "cell_type": "code",
   "execution_count": 12,
   "id": "ab8ab606-6533-47e2-89b2-6d563580f994",
   "metadata": {},
   "outputs": [
    {
     "data": {
      "text/plain": [
       "10000000000000"
      ]
     },
     "execution_count": 12,
     "metadata": {},
     "output_type": "execute_result"
    }
   ],
   "source": [
    "total_sales(100000000000,100)"
   ]
  },
  {
   "cell_type": "code",
   "execution_count": null,
   "id": "a76e41c3-887b-462d-b786-33ce76f33603",
   "metadata": {},
   "outputs": [],
   "source": []
  }
 ],
 "metadata": {
  "kernelspec": {
   "display_name": "Python 3 (ipykernel)",
   "language": "python",
   "name": "python3"
  },
  "language_info": {
   "codemirror_mode": {
    "name": "ipython",
    "version": 3
   },
   "file_extension": ".py",
   "mimetype": "text/x-python",
   "name": "python",
   "nbconvert_exporter": "python",
   "pygments_lexer": "ipython3",
   "version": "3.11.7"
  }
 },
 "nbformat": 4,
 "nbformat_minor": 5
}
