{
 "cells": [
  {
   "cell_type": "markdown",
   "id": "e5f6b40a-f695-4551-bd73-316a349ed09f",
   "metadata": {},
   "source": [
    "# Activity with strings"
   ]
  },
  {
   "cell_type": "markdown",
   "id": "0e2a485e-dd12-4d5d-8ff1-d934019d626c",
   "metadata": {},
   "source": [
    "## Task1 :Check and change with data type"
   ]
  },
  {
   "cell_type": "code",
   "execution_count": 2,
   "id": "7be756aa-b4e5-411d-8136-0f0b866e0889",
   "metadata": {},
   "outputs": [
    {
     "name": "stdout",
     "output_type": "stream",
     "text": [
      "<class 'str'>\n"
     ]
    }
   ],
   "source": [
    "#1:Storing a 4 digit id code in a variable\n",
    "store_id=2258\n",
    "#2:Changing it to string and store to same variable\n",
    "store_id=str(store_id)\n",
    "#3:Check it \n",
    "print(type(store_id))"
   ]
  },
  {
   "cell_type": "markdown",
   "id": "b5b92996-21de-4da6-b9b0-4c5051380358",
   "metadata": {},
   "source": [
    "## Task 2 :String contacation "
   ]
  },
  {
   "cell_type": "markdown",
   "id": "979bbd3d-9e50-422d-a7f6-6213e6c2982a",
   "metadata": {},
   "source": [
    "## Zip code checker "
   ]
  },
  {
   "cell_type": "code",
   "execution_count": 9,
   "id": "34f0701b-1a46-498d-ba0f-00e25cf6656e",
   "metadata": {},
   "outputs": [
    {
     "name": "stdout",
     "output_type": "stream",
     "text": [
      "02806\n",
      "02806\n",
      "Invalid Zip code\n",
      "Invalid Zip code\n",
      "Invalid Zip code\n"
     ]
    }
   ],
   "source": [
    "#1\n",
    "#Making a function where it checks if length of string is 4 or 5 or not\n",
    "def zip_checker(x):\n",
    "    \n",
    "    if(len(x)==4):\n",
    "        #2:if first character is 0 in length '4' string it is invalid\n",
    "        if(x[0]=='0'):\n",
    "            print('Invalid Zip code')\n",
    "        else:\n",
    "            #3:If first character is not 0 then it must make it 5 digit by adding a 0 to it\n",
    "            print('0'+x)\n",
    "    if(len(x)==5):\n",
    "        #4:Checking if first and second character are 0 or not then it is invalid\n",
    "        if(x[0]=='0' and x[1]=='0'):\n",
    "            print('Invalid Zip code')\n",
    "        else:\n",
    "            print(x)\n",
    "\n",
    "\n",
    "zip_checker('02806')\n",
    "zip_checker('2806')\n",
    "zip_checker('0080')\n",
    "zip_checker('00280')\n",
    "        \n",
    "        \n",
    "zip_checker('0444')"
   ]
  },
  {
   "cell_type": "markdown",
   "id": "259b2f2c-bd07-49fa-8e93-901b9cbf547f",
   "metadata": {},
   "source": [
    "## 0.5 Task 3: Extract the store ID"
   ]
  },
  {
   "cell_type": "code",
   "execution_count": 1,
   "id": "cb8e1657-bc0f-4307-b5af-4efeae99f518",
   "metadata": {},
   "outputs": [
    {
     "name": "stdout",
     "output_type": "stream",
     "text": [
      "r626c36\n"
     ]
    }
   ],
   "source": [
    "#printing the end 7 character of a url wihhcih is a store id\n",
    "url = \"https://exampleURL1.com/r626c36\"\n",
    "url[len(url)-7:]\n",
    "#or\n",
    "id=url[-7:]\n",
    "print(id)\n"
   ]
  },
  {
   "cell_type": "markdown",
   "id": "34eb1334-35f9-4394-b40c-65497d14bb92",
   "metadata": {},
   "source": [
    "## 0.6 Task 4: String extraction function"
   ]
  },
  {
   "cell_type": "code",
   "execution_count": 32,
   "id": "2fb7ddfd-e1ad-4ea0-b44c-102a8e74f1f0",
   "metadata": {},
   "outputs": [
    {
     "data": {
      "text/plain": [
       "'http: is Wrong protocol     r62636 wrong ID'"
      ]
     },
     "execution_count": 32,
     "metadata": {},
     "output_type": "execute_result"
    }
   ],
   "source": [
    "def url_checker(url):\n",
    "    sp=url.split('/')\n",
    "    if(len(sp[3])!=7 and url[:5]!='https'):\n",
    "        return f\"{url[:5]} is Wrong protocol     {sp[3]} wrong ID\"\n",
    "    elif(len(sp[3])==7 and url[:5]=='https'):\n",
    "        return sp[3]\n",
    "    elif(len(sp[3])!=7):\n",
    "        return f\"{sp[3]} is wrong id\"\n",
    "    elif url[:5]!='https':\n",
    "        return f\"{url[:5]} is wrong protocol\"\n",
    "    \n",
    "  \n",
    "url_checker(\"http://exampleURL1.com/r62636\")\n",
    "        "
   ]
  },
  {
   "cell_type": "code",
   "execution_count": 33,
   "id": "d6e6fc6c-d922-4011-8bf9-ad90510df334",
   "metadata": {},
   "outputs": [
    {
     "name": "stdout",
     "output_type": "stream",
     "text": [
      "http: is Wrong protocol     r626c3 wrong ID\n",
      "ftps: is wrong protocol\n",
      "r626c3 is wrong id\n",
      "r626c36\n"
     ]
    }
   ],
   "source": [
    "# RUN THIS CELL TO TEST YOUR FUCTION # Should return:\n",
    "print(url_checker('http://exampleURL1.com/r626c3'))# 'http: is an invalid protocol. # 'r626c3 is an invalid store␣\n",
    "print(url_checker('ftps://exampleURL1.com/r626c36') )# 'ftps: is an invalid protocol.\n",
    "print(url_checker('https://exampleURL1.com/r626c3')) # 'r626c3 is an invalid store␣id\n",
    "print(url_checker('https://exampleURL1.com/r626c36')) # 'r626c36"
   ]
  },
  {
   "cell_type": "code",
   "execution_count": 34,
   "id": "1bd56e2b-2fe6-42ea-bc83-815f3ca32682",
   "metadata": {},
   "outputs": [
    {
     "name": "stdout",
     "output_type": "stream",
     "text": [
      "http: is Wrong protocol     r626c3 wrong ID\n"
     ]
    }
   ],
   "source": [
    "print(url_checker('http://exampleURL1.com/r626c3'))"
   ]
  },
  {
   "cell_type": "code",
   "execution_count": null,
   "id": "6a45ebc8-18b9-46bc-a819-fb3bf45515a4",
   "metadata": {},
   "outputs": [],
   "source": []
  }
 ],
 "metadata": {
  "kernelspec": {
   "display_name": "Python 3 (ipykernel)",
   "language": "python",
   "name": "python3"
  },
  "language_info": {
   "codemirror_mode": {
    "name": "ipython",
    "version": 3
   },
   "file_extension": ".py",
   "mimetype": "text/x-python",
   "name": "python",
   "nbconvert_exporter": "python",
   "pygments_lexer": "ipython3",
   "version": "3.11.7"
  }
 },
 "nbformat": 4,
 "nbformat_minor": 5
}
