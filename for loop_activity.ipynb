{
 "cells": [
  {
   "cell_type": "markdown",
   "id": "71d289c3-56d3-43cd-9a27-ee59e662eb33",
   "metadata": {},
   "source": [
    "# Activity with for loop"
   ]
  },
  {
   "cell_type": "markdown",
   "id": "ccf549b4-d4d1-499c-a81e-4aad0f4449a8",
   "metadata": {},
   "source": [
    "## Task 1:Iterating if,elif and else"
   ]
  },
  {
   "cell_type": "markdown",
   "id": "70521632-dd37-433b-993d-7ed7afe4145e",
   "metadata": {},
   "source": [
    "## Feedback score"
   ]
  },
  {
   "cell_type": "code",
   "execution_count": 7,
   "id": "89035da4-c35c-4a74-9c27-537ed9520ca3",
   "metadata": {},
   "outputs": [
    {
     "data": {
      "text/plain": [
       "'Negetive:5  Positive:2  neutral:3'"
      ]
     },
     "execution_count": 7,
     "metadata": {},
     "output_type": "execute_result"
    }
   ],
   "source": [
    "#1:Defining a function for the reaction score \n",
    "def score_counter(score_list):\n",
    "    positive=0\n",
    "    negetive=0\n",
    "    neutral=0\n",
    "    #2 using for loop to access each member of list\n",
    "    for score in score_list:\n",
    "        if(score>=1 and score<=5):\n",
    "            negetive+=1\n",
    "        elif(score>5 and score<9):\n",
    "            neutral+=1\n",
    "        else:\n",
    "            positive+=1\n",
    "    return (f\"Negetive:{negetive}  Positive:{positive}  neutral:{neutral}\")\n",
    "score_counter([1,2,3,4,5,6,7,8,9,10])\n",
    "\n",
    "\n",
    "    "
   ]
  },
  {
   "cell_type": "code",
   "execution_count": 5,
   "id": "42a77341-20c9-4275-b0cc-c9149006c89f",
   "metadata": {},
   "outputs": [
    {
     "name": "stdout",
     "output_type": "stream",
     "text": [
      "1 is invalid\n",
      "1 is invalid\n"
     ]
    }
   ],
   "source": [
    "#creating a function taking 2 arguement\n",
    "def id_validator(verified_ids,feedback_ids):\n",
    "    unverified_id=0\n",
    "    feedback_id=0\n",
    "    position=0\n",
    "    for id in feedback_ids:#accessing all memeber in feedback id\n",
    "        if id not in verified_ids:#checking each member is in verified id or not if not then count that\n",
    "            unverified_id+=1\n",
    "    print(unverified_id , \"is invalid\") \n",
    "\n",
    "\n",
    "id_validator([1,2],[1,2,3])\n",
    "id_validator(['1a','2b','4c'],['1a','2b',3])\n",
    "\n",
    "        \n",
    "    \n",
    "        "
   ]
  },
  {
   "cell_type": "code",
   "execution_count": 9,
   "id": "12e46914-2e56-4ec1-bbd5-8abcf2f31ab5",
   "metadata": {},
   "outputs": [
    {
     "name": "stdout",
     "output_type": "stream",
     "text": [
      "Test 1:\n",
      "Negetive:5  Positive:4  neutral:1\n",
      "\n",
      "Test 2:\n",
      "Negetive:85  Positive:112  neutral:253\n",
      "\n",
      "Test 3:\n"
     ]
    },
    {
     "data": {
      "text/plain": [
       "'Negetive:1935  Positive:5413  neutral:2652'"
      ]
     },
     "execution_count": 9,
     "metadata": {},
     "output_type": "execute_result"
    }
   ],
   "source": [
    "import random\n",
    "random.seed(42)\n",
    "possible_scores = list(range(1,11))\n",
    "score_list1 = random.choices(possible_scores, weights=[8,8,8,8,8,3,3,4,20,30],\n",
    "k=10)\n",
    "score_list2 = random.choices(possible_scores, weights=[1,2,3,4,5,10,15,15,7,9],\n",
    "k=450)\n",
    "score_list3 = random.choices(possible_scores, weights=[1,2,3,4,4,5,5,10,15,25],\n",
    "k=10000)\n",
    "print('Test 1:') # SHOULD OUTPUT (neg, neut, pos):\n",
    "print(score_counter(score_list1)) # 5, 1, 4\n",
    "print('\\nTest 2:')\n",
    "print(score_counter(score_list2)) # 85, 253, 112\n",
    "print('\\nTest 3:')\n",
    "score_counter(score_list3) # 1935, 2652, 5413"
   ]
  },
  {
   "cell_type": "markdown",
   "id": "3c2c38d6-a1a9-4e80-8201-3c0b81edcbf3",
   "metadata": {},
   "source": [
    "## Task 2: Create a for loop using if, not"
   ]
  },
  {
   "cell_type": "code",
   "execution_count": 22,
   "id": "fcdd442b-dc4c-4b63-84f9-2c429c90a2e6",
   "metadata": {},
   "outputs": [
    {
     "name": "stdout",
     "output_type": "stream",
     "text": [
      "1 is unverified\n",
      " 33.33333333333333 percentage is unverified\n"
     ]
    }
   ],
   "source": [
    "\n",
    "def id_validator(verified_ids,feedback_ids):\n",
    "    unverified=0\n",
    "    if feedback_ids not in verified_ids:#logic same as above\n",
    "        unverified+=1#increasing value if id is unverified\n",
    "    percent=(unverified/len(feedback_ids))*100#len counts total number of feedback id then calculates the percentage\n",
    "    print(unverified ,\"is unverified\\n\" ,percent ,\"percentage is unverified\")\n",
    "id_validator([1,2,3,4],[1,4,5])\n",
    "        \n"
   ]
  },
  {
   "cell_type": "markdown",
   "id": "ddcc0be6-a3d6-4524-8e1e-2615df6d6299",
   "metadata": {},
   "source": [
    "## NESTED LOOP"
   ]
  },
  {
   "cell_type": "code",
   "execution_count": 47,
   "id": "0f8fe453-1424-4aa2-948e-f30c8e7e0e89",
   "metadata": {},
   "outputs": [
    {
     "data": {
      "text/plain": [
       "2"
      ]
     },
     "execution_count": 47,
     "metadata": {},
     "output_type": "execute_result"
    }
   ],
   "source": [
    "def purchases_100(sales):#defininf a function for list of lists to check if the list in list is total of 100 or more or not\n",
    "    rate=0\n",
    "    r=0\n",
    "    for sale in sales:#accessing lists inside the list\n",
    "        for s in sale:#accessing each values in inside list\n",
    "            rate=rate+s#adding the value from 0 to calculate the final sum\n",
    "            if(rate>=100):\n",
    "                r+=1\n",
    "                break#break is used to not compare other values if the sum is already 100 in inside list\n",
    "        rate=0\n",
    "    return r\n",
    "    \n",
    "            \n",
    "purchases_100( [[2.75], [50.0, 50.0], [150.46, 200.12, 111.30]])\n",
    "    \n",
    "            \n",
    "    \n"
   ]
  },
  {
   "cell_type": "code",
   "execution_count": null,
   "id": "d6c8557c-f256-4b7d-bdd5-55b8cf0053c5",
   "metadata": {},
   "outputs": [],
   "source": []
  }
 ],
 "metadata": {
  "kernelspec": {
   "display_name": "Python 3 (ipykernel)",
   "language": "python",
   "name": "python3"
  },
  "language_info": {
   "codemirror_mode": {
    "name": "ipython",
    "version": 3
   },
   "file_extension": ".py",
   "mimetype": "text/x-python",
   "name": "python",
   "nbconvert_exporter": "python",
   "pygments_lexer": "ipython3",
   "version": "3.11.7"
  }
 },
 "nbformat": 4,
 "nbformat_minor": 5
}
