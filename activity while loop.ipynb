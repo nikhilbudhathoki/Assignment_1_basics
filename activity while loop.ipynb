{
 "cells": [
  {
   "cell_type": "markdown",
   "id": "0dff4a76-2880-4d3b-9614-38ae44b1ce4b",
   "metadata": {},
   "source": [
    "# ACTIVITY WHILE LOOP"
   ]
  },
  {
   "cell_type": "markdown",
   "id": "d37f8f4e-0ef1-4575-8d0f-a93988ffe0e3",
   "metadata": {},
   "source": [
    "## TASK 1:ITERATE WITH WHILE LOOP"
   ]
  },
  {
   "cell_type": "code",
   "execution_count": 1,
   "id": "fe1928cc-b379-482e-9652-3e6ae530893e",
   "metadata": {},
   "outputs": [
    {
     "name": "stdout",
     "output_type": "stream",
     "text": [
      "Candy purchased:0\n",
      "Candy purchased:1\n",
      "Candy purchased:2\n",
      "Candy purchased:3\n",
      "Candy purchased:4\n",
      "Candy purchased:5\n"
     ]
    }
   ],
   "source": [
    "#1:Creating a counter variable named number and giving it value 0\n",
    "number=0\n",
    "#2:Using a while loop to interate it until it reaches to 6\n",
    "while(number!=6):\n",
    "    print(f\"Candy purchased:{number}\")#using f string to use a variable easily\n",
    "    number+=1#increasing the value to 1 in each iteration\n",
    "    "
   ]
  },
  {
   "cell_type": "markdown",
   "id": "60d10bf1-c599-4b74-9797-dd6df0a55ed7",
   "metadata": {},
   "source": [
    "## TASK 2 :ITERATE WITH WHILE AND IF"
   ]
  },
  {
   "cell_type": "code",
   "execution_count": null,
   "id": "a1bdd10e-f6ec-43b0-9ea7-cbc1ad2e0355",
   "metadata": {},
   "outputs": [],
   "source": []
  },
  {
   "cell_type": "code",
   "execution_count": 2,
   "id": "c00edb0c-3e3d-49b0-82ca-20dec08e19e0",
   "metadata": {},
   "outputs": [
    {
     "name": "stdout",
     "output_type": "stream",
     "text": [
      "Candy purchased:0\n",
      "Candy purchased:10\n",
      "Candy purchased:20\n",
      "Candy purchased:30\n",
      "Candy purchased:40\n",
      "Candy purchased:50\n",
      "Candy purchased:60\n",
      "Candy purchased:70\n",
      "Candy purchased:80\n",
      "Candy purchased:90\n",
      "Candy purchased:100\n"
     ]
    }
   ],
   "source": [
    "number=0\n",
    "while(number<101):\n",
    "    if number%10==0:\n",
    "        print(f\"Candy purchased:{number}\")\n",
    "        #using f string to use a variable easily\n",
    "    number+=1#increasing the value after the each increament"
   ]
  },
  {
   "cell_type": "markdown",
   "id": "4a7a972a-6bfc-4e6b-819a-86ca3bcc8375",
   "metadata": {},
   "source": [
    "## Task 3:Create a webpage timer function"
   ]
  },
  {
   "cell_type": "code",
   "execution_count": 3,
   "id": "33dfb7dd-c7f8-4ffc-85bc-72f24b364391",
   "metadata": {},
   "outputs": [
    {
     "name": "stdout",
     "output_type": "stream",
     "text": [
      "3\n",
      "2\n",
      "1\n",
      "0\n"
     ]
    }
   ],
   "source": [
    "#Example from the assignment:\n",
    "from time import sleep#sleep() function gives a pause for such time after applying it\n",
    "\n",
    "n=3\n",
    "#sleep() takes value as seconds\n",
    "\n",
    "while n>=0:\n",
    "    print(n)\n",
    "    sleep(1)\n",
    "    n-=1\n",
    "#It acts as timer for 3 sec"
   ]
  },
  {
   "cell_type": "markdown",
   "id": "f213ea0d-aa97-4938-baab-e8c60163302b",
   "metadata": {},
   "source": [
    "## Movie theater online reservation timout project "
   ]
  },
  {
   "cell_type": "code",
   "execution_count": 9,
   "id": "8bfc9db7-c386-418b-86ae-e60f3e80654d",
   "metadata": {},
   "outputs": [
    {
     "name": "stdout",
     "output_type": "stream",
     "text": [
      "10\n",
      "9\n",
      "8\n",
      "7\n",
      "6\n",
      "Place your reservation soon! 5 minutes remaining\n",
      "4\n",
      "3\n",
      "don't loose your seats ! 2 minutes remaining\n",
      "1\n",
      "user time-out\n"
     ]
    }
   ],
   "source": [
    "#1\n",
    "from time import sleep#importing sleep function from time lib\n",
    "#2\n",
    "mins=10\n",
    "#Creating a mins named variable where 1 sec is considered as 1 minute \n",
    "#3\n",
    "while(mins>=0):\n",
    "    #using while loop to show like in the assignment format\n",
    "    sleep(1)\n",
    "    if(mins>5 or mins==4 or mins==3 or mins==1):#using or to use same function for multiple codition\n",
    "        print(mins)\n",
    "    if(mins==5):\n",
    "        print(\"Place your reservation soon! 5 minutes remaining\")\n",
    "    if(mins==2):\n",
    "         print(\"Don't loose your seats ! 2 minutes remaining\")\n",
    "       \n",
    "    if(mins==0):\n",
    "        print(\"user time-out\")\n",
    "    mins-=1\n",
    "#decreasing value for a timer"
   ]
  },
  {
   "cell_type": "raw",
   "id": "351c6116-a5e0-437d-8876-2d8bd0d8fab4",
   "metadata": {},
   "source": []
  }
 ],
 "metadata": {
  "kernelspec": {
   "display_name": "Python 3 (ipykernel)",
   "language": "python",
   "name": "python3"
  },
  "language_info": {
   "codemirror_mode": {
    "name": "ipython",
    "version": 3
   },
   "file_extension": ".py",
   "mimetype": "text/x-python",
   "name": "python",
   "nbconvert_exporter": "python",
   "pygments_lexer": "ipython3",
   "version": "3.11.7"
  }
 },
 "nbformat": 4,
 "nbformat_minor": 5
}
